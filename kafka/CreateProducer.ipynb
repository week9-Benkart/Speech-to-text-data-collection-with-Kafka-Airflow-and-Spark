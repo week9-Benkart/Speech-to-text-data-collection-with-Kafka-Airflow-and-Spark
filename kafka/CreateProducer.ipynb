{
 "cells": [
  {
   "cell_type": "code",
   "execution_count": 1,
   "id": "8ba147ce-4c87-483e-81d7-a19371d1c5e4",
   "metadata": {},
   "outputs": [],
   "source": [
    "from kafka import KafkaProducer\n",
    "from kafka.errors import KafkaError"
   ]
  },
  {
   "cell_type": "code",
   "execution_count": 2,
   "id": "9711bb5d-4703-472d-a833-700936ced680",
   "metadata": {},
   "outputs": [],
   "source": [
    "def on_send_success(record_metadata):\n",
    "    print(record_metadata.topic)\n",
    "    print(record_metadata.partition)\n",
    "    print(record_metadata.offset)\n",
    "\n",
    "def on_send_error(excp):\n",
    "    log.error('I am an errback', exc_info=excp)\n",
    "    # handle exception\n",
    "    \n",
    "def createProducer():\n",
    "    producer = KafkaProducer(bootstrap_servers=['b-1.demo-cluster-1.9q7lp7.c1.kafka.eu-west-1.amazonaws.com:9092'])\n",
    "    return producer\n",
    "\n",
    "def sendMessage(topic, message,producer):\n",
    "    producer.send(topic, message).add_callback(on_send_success).add_errback(on_send_error)"
   ]
  },
  {
   "cell_type": "code",
   "execution_count": 3,
   "id": "6b81df5e-3871-43b0-b265-493a6c26ef1a",
   "metadata": {},
   "outputs": [],
   "source": [
    "producer = createProducer()"
   ]
  },
  {
   "cell_type": "code",
   "execution_count": 4,
   "id": "72df11e8-74e9-42d5-aef3-8249ec63e0fc",
   "metadata": {},
   "outputs": [
    {
     "name": "stdout",
     "output_type": "stream",
     "text": [
      "example_topic_group2\n",
      "0\n",
      "18\n"
     ]
    }
   ],
   "source": [
    "sendMessage('example_topic_group2', b'Heloo 3',producer)"
   ]
  },
  {
   "cell_type": "code",
   "execution_count": null,
   "id": "e463f783-a540-428f-afb5-3f2cfe4a86e9",
   "metadata": {},
   "outputs": [],
   "source": []
  }
 ],
 "metadata": {
  "kernelspec": {
   "display_name": "Python 3 (ipykernel)",
   "language": "python",
   "name": "python3"
  },
  "language_info": {
   "codemirror_mode": {
    "name": "ipython",
    "version": 3
   },
   "file_extension": ".py",
   "mimetype": "text/x-python",
   "name": "python",
   "nbconvert_exporter": "python",
   "pygments_lexer": "ipython3",
   "version": "3.9.5"
  }
 },
 "nbformat": 4,
 "nbformat_minor": 5
}
