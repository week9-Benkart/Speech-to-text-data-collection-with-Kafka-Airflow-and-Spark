{
 "cells": [
  {
   "cell_type": "code",
   "execution_count": 1,
   "id": "dfb91f3a-b404-4dff-893a-e4d4712383a0",
   "metadata": {},
   "outputs": [],
   "source": [
    "from kafka import KafkaConsumer"
   ]
  },
  {
   "cell_type": "code",
   "execution_count": 2,
   "id": "56257ed5-86b6-44bd-87e1-b0254883478f",
   "metadata": {},
   "outputs": [],
   "source": [
    "def createConsumer(topic):\n",
    "    consumer = KafkaConsumer(topic,\n",
    "                             client_id='test',\n",
    "                             bootstrap_servers=['b-1.demo-cluster-1.9q7lp7.c1.kafka.eu-west-1.amazonaws.com:9092'],\n",
    "                             auto_offset_reset='earliest',\n",
    "                             enable_auto_commit=False)\n",
    "    return consumer"
   ]
  },
  {
   "cell_type": "code",
   "execution_count": 3,
   "id": "4d0b03a3-3a28-402e-8a6d-e4caff9d813a",
   "metadata": {},
   "outputs": [],
   "source": [
    "consumer = createConsumer('example_topic_group2')"
   ]
  },
  {
   "cell_type": "code",
   "execution_count": null,
   "id": "4c1ec6f6-c42d-4045-b79d-aa5336eb160c",
   "metadata": {},
   "outputs": [
    {
     "name": "stdout",
     "output_type": "stream",
     "text": [
      "example_topic_group2:0:0: value=Heloo 1\n",
      "example_topic_group2:0:1: value=Heloo 2\n",
      "example_topic_group2:0:2: value=Heloo 3\n",
      "example_topic_group2:0:3: value=Heloo 3\n",
      "example_topic_group2:0:4: value=Heloo 4\n",
      "example_topic_group2:0:5: value=Heloo 5\n",
      "example_topic_group2:0:6: value=Heloo 6\n",
      "example_topic_group2:0:7: value=Heloo 7\n",
      "example_topic_group2:0:8: value=Heloo 8\n",
      "example_topic_group2:0:9: value=Heloo 9\n",
      "example_topic_group2:0:10: value=Heloo 10\n",
      "example_topic_group2:0:11: value=Heloo 11\n",
      "example_topic_group2:0:12: value=Heloo 11\n",
      "example_topic_group2:0:13: value=Heloo 11\n",
      "example_topic_group2:0:14: value=Heloo 11\n",
      "example_topic_group2:0:15: value=Heloo 3\n",
      "example_topic_group2:0:16: value=Heloo 3\n",
      "example_topic_group2:0:17: value=Heloo 3\n",
      "example_topic_group2:0:18: value=Heloo 3\n"
     ]
    }
   ],
   "source": [
    "for message in consumer:\n",
    "    # message value and key are raw bytes -- decode if necessary!\n",
    "    # e.g., for unicode: `message.value.decode('utf-8')`\n",
    "    print (\"%s:%d:%d: value=%s\" % (message.topic, message.partition,\n",
    "                                          message.offset,message.value.decode('utf-8')))"
   ]
  },
  {
   "cell_type": "code",
   "execution_count": null,
   "id": "d81ff290-1071-472d-b259-f84a2c7a521e",
   "metadata": {},
   "outputs": [],
   "source": []
  }
 ],
 "metadata": {
  "kernelspec": {
   "display_name": "Python 3 (ipykernel)",
   "language": "python",
   "name": "python3"
  },
  "language_info": {
   "codemirror_mode": {
    "name": "ipython",
    "version": 3
   },
   "file_extension": ".py",
   "mimetype": "text/x-python",
   "name": "python",
   "nbconvert_exporter": "python",
   "pygments_lexer": "ipython3",
   "version": "3.9.5"
  }
 },
 "nbformat": 4,
 "nbformat_minor": 5
}
